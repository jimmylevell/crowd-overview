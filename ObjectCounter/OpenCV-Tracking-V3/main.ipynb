{
 "cells": [
  {
   "cell_type": "markdown",
   "metadata": {},
   "source": [
    "# OpenCV Detection and Tracking\n",
    "Based on: https://pysource.com/2021/10/05/object-tracking-from-scratch-opencv-and-python/\n",
    "\n",
    "Using YOLOv4 for object detection and tracking."
   ]
  },
  {
   "cell_type": "code",
   "execution_count": 2,
   "metadata": {},
   "outputs": [],
   "source": [
    "import cv2"
   ]
  },
  {
   "cell_type": "code",
   "execution_count": 1,
   "metadata": {},
   "outputs": [
    {
     "name": "stdout",
     "output_type": "stream",
     "text": [
      "Extra dependencies: cudart_static.lib nppc.lib nppial.lib nppicc.lib nppidei.lib nppif.lib nppig.lib nppim.lib nppist.lib nppisu.lib nppitc.lib npps.lib cublas.lib cudnn.lib cufft.lib -LIBPATH:C:/Program Files/NVIDIA GPU Computing Toolkit/CUDA/v11.0/lib/x64\n",
      "NVIDIA CUDA: YES (ver 11.0, CUFFT CUBLAS FAST_MATH)\n",
      "NVIDIA GPU arch: 61\n",
      "NVIDIA PTX archs:\n",
      "cuDNN: YES (ver 8.0.5)\n",
      "\n",
      "\n",
      "Loading Object Detection\n",
      "Running opencv dnn with YOLOv4\n",
      "Region of interest:  (380, 447, 716, 298)\n"
     ]
    },
    {
     "ename": "AttributeError",
     "evalue": "'NoneType' object has no attribute 'shape'",
     "output_type": "error",
     "traceback": [
      "\u001b[1;31m---------------------------------------------------------------------------\u001b[0m",
      "\u001b[1;31mAttributeError\u001b[0m                            Traceback (most recent call last)",
      "\u001b[1;32mc:\\Daten\\git\\crowd-overview\\ObjectCounter\\OpenCV-Tracking-V3\\main.ipynb Cell 3\u001b[0m in \u001b[0;36m<cell line: 41>\u001b[1;34m()\u001b[0m\n\u001b[0;32m     <a href='vscode-notebook-cell:/c%3A/Daten/git/crowd-overview/ObjectCounter/OpenCV-Tracking-V3/main.ipynb#W2sZmlsZQ%3D%3D?line=40'>41</a>\u001b[0m \u001b[39mwhile\u001b[39;00m \u001b[39mTrue\u001b[39;00m:\n\u001b[0;32m     <a href='vscode-notebook-cell:/c%3A/Daten/git/crowd-overview/ObjectCounter/OpenCV-Tracking-V3/main.ipynb#W2sZmlsZQ%3D%3D?line=41'>42</a>\u001b[0m     ret, frame \u001b[39m=\u001b[39m cap\u001b[39m.\u001b[39mread()\n\u001b[1;32m---> <a href='vscode-notebook-cell:/c%3A/Daten/git/crowd-overview/ObjectCounter/OpenCV-Tracking-V3/main.ipynb#W2sZmlsZQ%3D%3D?line=42'>43</a>\u001b[0m     height, width, _ \u001b[39m=\u001b[39m frame\u001b[39m.\u001b[39;49mshape    \n\u001b[0;32m     <a href='vscode-notebook-cell:/c%3A/Daten/git/crowd-overview/ObjectCounter/OpenCV-Tracking-V3/main.ipynb#W2sZmlsZQ%3D%3D?line=44'>45</a>\u001b[0m     \u001b[39m# 1. Object Detection\u001b[39;00m\n\u001b[0;32m     <a href='vscode-notebook-cell:/c%3A/Daten/git/crowd-overview/ObjectCounter/OpenCV-Tracking-V3/main.ipynb#W2sZmlsZQ%3D%3D?line=45'>46</a>\u001b[0m     roi \u001b[39m=\u001b[39m frame[\u001b[39mint\u001b[39m(roi_coordinates[\u001b[39m1\u001b[39m]):\u001b[39mint\u001b[39m(roi_coordinates[\u001b[39m1\u001b[39m] \u001b[39m+\u001b[39m roi_coordinates[\u001b[39m3\u001b[39m]), \u001b[39mint\u001b[39m(roi_coordinates[\u001b[39m0\u001b[39m]):\u001b[39mint\u001b[39m(roi_coordinates[\u001b[39m0\u001b[39m] \u001b[39m+\u001b[39m roi_coordinates[\u001b[39m2\u001b[39m])]\n",
      "\u001b[1;31mAttributeError\u001b[0m: 'NoneType' object has no attribute 'shape'"
     ]
    },
    {
     "ename": "",
     "evalue": "",
     "output_type": "error",
     "traceback": [
      "The Kernel crashed while executing code in the the current cell or a previous cell. Please review the code in the cell(s) to identify a possible cause of the failure. Click <a href='https://aka.ms/vscodeJupyterKernelCrash'>here</a> for more info. View Jupyter <a href='command:jupyter.viewOutput'>log</a> for further details."
     ]
    }
   ],
   "source": [
    "import cv2\n",
    "import numpy as np\n",
    "from object_detection import ObjectDetection\n",
    "import math\n",
    "from tracker import *\n",
    "\n",
    "import cv2\n",
    "import re\n",
    "\n",
    "cv_info = [re.sub('\\s+', ' ', ci.strip()) for ci in cv2.getBuildInformation().strip().split('\\n') \n",
    "               if len(ci) > 0 and re.search(r'(nvidia*:?)|(cuda*:)|(cudnn*:)', ci.lower()) is not None]\n",
    "\n",
    "if len(cv_info) > 0:\n",
    "    print('\\n'.join(cv_info))\n",
    "    print('\\n')\n",
    "else:\n",
    "    print('No CUDA/OpenCV GPU found')\n",
    "    print('\\n')\n",
    "    raise Exception('No CUDA/OpenCV GPU found')\n",
    "\n",
    "# Initialize Object Detection\n",
    "od = ObjectDetection()\n",
    "\n",
    "cap = cv2.VideoCapture(\"los_angeles.mp4\")\n",
    "#cap = cv2.VideoCapture(0) # for using WebCam\n",
    "\n",
    "# Create tracker object\n",
    "tracker = EuclideanDistTracker()\n",
    "\n",
    "# Read first frame\n",
    "ok, frame = cap.read()\n",
    "if not ok:\n",
    "    print ('Cannot read video file')\n",
    "    sys.exit()\n",
    "\n",
    "# Extract Region of interest ROI\n",
    "roi_coordinates = cv2.selectROI(frame, False)\n",
    "cv2.destroyAllWindows()\n",
    "print(\"Region of interest: \", roi_coordinates)\n",
    "\n",
    "while True:\n",
    "    ret, frame = cap.read()\n",
    "    height, width, _ = frame.shape    \n",
    "\n",
    "    # 1. Object Detection\n",
    "    roi = frame[int(roi_coordinates[1]):int(roi_coordinates[1] + roi_coordinates[3]), int(roi_coordinates[0]):int(roi_coordinates[0] + roi_coordinates[2])]\n",
    "    \n",
    "    (class_ids, scores, boxes) = od.detect(roi)\n",
    "\n",
    "    # 2. Object Tracking\n",
    "    boxes_ids = tracker.update(boxes)\n",
    "    for box_id in boxes_ids:\n",
    "        x, y, w, h, id, direction = box_id\n",
    "        cv2.putText(roi, str(id) + \" \" + format(direction,\".2f\"), (x, y - 15), cv2.FONT_HERSHEY_PLAIN, 2, (255, 0, 0), 2)\n",
    "        cv2.rectangle(roi, (x, y), (x + w, y + h), (0, 255, 0), 3)\n",
    "\n",
    "    cv2.imshow(\"roi\", roi)\n",
    "    cv2.imshow(\"Frame\", frame)\n",
    "\n",
    "    key = cv2.waitKey(1)\n",
    "    if key == 27:\n",
    "        break\n",
    "\n",
    "cap.release()\n",
    "cv2.destroyAllWindows()"
   ]
  }
 ],
 "metadata": {
  "kernelspec": {
   "display_name": "Python 3.10.1 64-bit",
   "language": "python",
   "name": "python3"
  },
  "language_info": {
   "codemirror_mode": {
    "name": "ipython",
    "version": 3
   },
   "file_extension": ".py",
   "mimetype": "text/x-python",
   "name": "python",
   "nbconvert_exporter": "python",
   "pygments_lexer": "ipython3",
   "version": "3.10.1"
  },
  "orig_nbformat": 4,
  "vscode": {
   "interpreter": {
    "hash": "369f2c481f4da34e4445cda3fffd2e751bd1c4d706f27375911949ba6bb62e1c"
   }
  }
 },
 "nbformat": 4,
 "nbformat_minor": 2
}
