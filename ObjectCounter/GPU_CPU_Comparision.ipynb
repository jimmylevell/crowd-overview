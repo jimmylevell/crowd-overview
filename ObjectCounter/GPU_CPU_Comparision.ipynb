{
 "cells": [
  {
   "cell_type": "markdown",
   "metadata": {},
   "source": [
    "# GPU vs CPU (single core) benchmark on MNIST\n",
    "## System \n",
    "- CPU: Intel Core i7-8700K @ 3.70GHz\n",
    "- GPU: NVIDIA GeForce GTX 1080 8GB\n",
    "- RAM: 32GB DDR4 3200MHz"
   ]
  },
  {
   "cell_type": "code",
   "execution_count": 4,
   "metadata": {},
   "outputs": [],
   "source": [
    "import tensorflow as tf\n",
    "import numpy as np                                \n",
    "import matplotlib.pyplot as plt\n",
    "import keras as k\n",
    "from keras.datasets import mnist\n",
    "from keras.models import Sequential\n",
    "from keras.layers import Dense, Dropout, Flatten\n",
    "from keras.layers import Conv2D, MaxPooling2D, BatchNormalization\n",
    "from keras.optimizers import SGD, Adam\n",
    "from keras.models import load_model\n",
    "from keras import backend as K"
   ]
  },
  {
   "cell_type": "markdown",
   "metadata": {},
   "source": [
    "## Data"
   ]
  },
  {
   "cell_type": "code",
   "execution_count": 5,
   "metadata": {},
   "outputs": [],
   "source": [
    "#data preprocessing\n",
    "(x_train, y_train), (x_test, y_test) = tf.keras.datasets.mnist.load_data()\n",
    "img_rows, img_cols = 28,28\n",
    "x_train = x_train.reshape(x_train.shape[0], img_rows, img_cols, 1)\n",
    "x_test = x_test.reshape(x_test.shape[0], img_rows, img_cols, 1)\n",
    "input_shape = (img_rows, img_cols, 1)\n",
    "x_test=x_test.astype('float32')\n",
    "x_train=x_train.astype('float32')\n",
    "mean=np.mean(x_train)\n",
    "std=np.std(x_train)\n",
    "x_test = (x_test-mean)/std\n",
    "x_train = (x_train-mean)/std"
   ]
  },
  {
   "cell_type": "code",
   "execution_count": 6,
   "metadata": {},
   "outputs": [],
   "source": [
    "#labels\n",
    "num_classes=10\n",
    "y_train = k.utils.to_categorical(y_train, num_classes)\n",
    "y_test = k.utils.to_categorical(y_test, num_classes)"
   ]
  },
  {
   "cell_type": "markdown",
   "metadata": {},
   "source": [
    "## GPU"
   ]
  },
  {
   "cell_type": "code",
   "execution_count": 13,
   "metadata": {},
   "outputs": [
    {
     "name": "stdout",
     "output_type": "stream",
     "text": [
      "Model: \"sequential_3\"\n",
      "_________________________________________________________________\n",
      " Layer (type)                Output Shape              Param #   \n",
      "=================================================================\n",
      " conv2d_12 (Conv2D)          (None, 28, 28, 32)        320       \n",
      "                                                                 \n",
      " batch_normalization_15 (Bat  (None, 28, 28, 32)       128       \n",
      " chNormalization)                                                \n",
      "                                                                 \n",
      " conv2d_13 (Conv2D)          (None, 28, 28, 32)        9248      \n",
      "                                                                 \n",
      " batch_normalization_16 (Bat  (None, 28, 28, 32)       128       \n",
      " chNormalization)                                                \n",
      "                                                                 \n",
      " max_pooling2d_6 (MaxPooling  (None, 14, 14, 32)       0         \n",
      " 2D)                                                             \n",
      "                                                                 \n",
      " conv2d_14 (Conv2D)          (None, 14, 14, 64)        18496     \n",
      "                                                                 \n",
      " batch_normalization_17 (Bat  (None, 14, 14, 64)       256       \n",
      " chNormalization)                                                \n",
      "                                                                 \n",
      " conv2d_15 (Conv2D)          (None, 14, 14, 64)        36928     \n",
      "                                                                 \n",
      " batch_normalization_18 (Bat  (None, 14, 14, 64)       256       \n",
      " chNormalization)                                                \n",
      "                                                                 \n",
      " max_pooling2d_7 (MaxPooling  (None, 7, 7, 64)         0         \n",
      " 2D)                                                             \n",
      "                                                                 \n",
      " flatten_3 (Flatten)         (None, 3136)              0         \n",
      "                                                                 \n",
      " dense_6 (Dense)             (None, 512)               1606144   \n",
      "                                                                 \n",
      " batch_normalization_19 (Bat  (None, 512)              2048      \n",
      " chNormalization)                                                \n",
      "                                                                 \n",
      " dropout_3 (Dropout)         (None, 512)               0         \n",
      "                                                                 \n",
      " dense_7 (Dense)             (None, 10)                5130      \n",
      "                                                                 \n",
      "=================================================================\n",
      "Total params: 1,679,082\n",
      "Trainable params: 1,677,674\n",
      "Non-trainable params: 1,408\n",
      "_________________________________________________________________\n"
     ]
    }
   ],
   "source": [
    "#build model\n",
    "\n",
    "num_filter=32\n",
    "num_dense=512\n",
    "drop_dense=0.7\n",
    "ac='relu'\n",
    "learningrate=0.001\n",
    "\n",
    "model = Sequential()\n",
    "\n",
    "model.add(Conv2D(num_filter, (3, 3), activation=ac, input_shape=(28, 28, 1),padding='same'))\n",
    "model.add(BatchNormalization(axis=-1))\n",
    "model.add(Conv2D(num_filter, (3, 3), activation=ac,padding='same'))\n",
    "model.add(BatchNormalization(axis=-1))\n",
    "model.add(MaxPooling2D(pool_size=(2, 2)))   # reduces to 14x14x32\n",
    "\n",
    "model.add(Conv2D(2*num_filter, (3, 3), activation=ac,padding='same'))\n",
    "model.add(BatchNormalization(axis=-1))\n",
    "model.add(Conv2D(2*num_filter, (3, 3), activation=ac,padding='same'))\n",
    "model.add(BatchNormalization(axis=-1))\n",
    "model.add(MaxPooling2D(pool_size=(2, 2)))   # reduces to 7x7x64 = 3136 neurons\n",
    "\n",
    "model.add(Flatten())                        \n",
    "model.add(Dense(num_dense, activation=ac))\n",
    "model.add(BatchNormalization())\n",
    "model.add(Dropout(drop_dense))\n",
    "model.add(Dense(10, activation='softmax'))\n",
    "\n",
    "adm=Adam(lr=learningrate, beta_1=0.9, beta_2=0.999, epsilon=1e-08)\n",
    "model.compile(loss='categorical_crossentropy', metrics=['accuracy'],optimizer=adm)\n",
    "model.summary()"
   ]
  },
  {
   "cell_type": "code",
   "execution_count": 14,
   "metadata": {},
   "outputs": [
    {
     "name": "stdout",
     "output_type": "stream",
     "text": [
      "batch size 8\n",
      "7500/7500 [==============================] - 48s 6ms/step - loss: 0.2238 - accuracy: 0.9338 - val_loss: 0.0365 - val_accuracy: 0.9872\n",
      "batch size 16\n",
      "3750/3750 [==============================] - 29s 8ms/step - loss: 0.0723 - accuracy: 0.9787 - val_loss: 0.0362 - val_accuracy: 0.9888\n",
      "batch size 32\n",
      "1875/1875 [==============================] - 18s 9ms/step - loss: 0.0405 - accuracy: 0.9882 - val_loss: 0.0207 - val_accuracy: 0.9928\n",
      "batch size 64\n",
      "938/938 [==============================] - 8s 9ms/step - loss: 0.0223 - accuracy: 0.9931 - val_loss: 0.0167 - val_accuracy: 0.9945\n",
      "batch size 128\n",
      "469/469 [==============================] - 6s 12ms/step - loss: 0.0132 - accuracy: 0.9959 - val_loss: 0.0152 - val_accuracy: 0.9953\n",
      "batch size 256\n",
      "235/235 [==============================] - 4s 18ms/step - loss: 0.0092 - accuracy: 0.9974 - val_loss: 0.0136 - val_accuracy: 0.9957\n",
      "batch size 512\n",
      "118/118 [==============================] - 4s 30ms/step - loss: 0.0070 - accuracy: 0.9980 - val_loss: 0.0137 - val_accuracy: 0.9954\n"
     ]
    }
   ],
   "source": [
    "# with GPU (the default in my setup)\n",
    "for i in range(7):\n",
    "    k=8*2**i\n",
    "    print(\"batch size \"+str(k))\n",
    "    model.fit(x_train, y_train, batch_size=k, epochs=1, validation_data=(x_test, y_test))"
   ]
  },
  {
   "cell_type": "markdown",
   "metadata": {},
   "source": [
    "## CPU"
   ]
  },
  {
   "cell_type": "code",
   "execution_count": 15,
   "metadata": {},
   "outputs": [
    {
     "name": "stdout",
     "output_type": "stream",
     "text": [
      "Model: \"sequential_4\"\n",
      "_________________________________________________________________\n",
      " Layer (type)                Output Shape              Param #   \n",
      "=================================================================\n",
      " conv2d_16 (Conv2D)          (None, 28, 28, 32)        320       \n",
      "                                                                 \n",
      " batch_normalization_20 (Bat  (None, 28, 28, 32)       128       \n",
      " chNormalization)                                                \n",
      "                                                                 \n",
      " conv2d_17 (Conv2D)          (None, 28, 28, 32)        9248      \n",
      "                                                                 \n",
      " batch_normalization_21 (Bat  (None, 28, 28, 32)       128       \n",
      " chNormalization)                                                \n",
      "                                                                 \n",
      " max_pooling2d_8 (MaxPooling  (None, 14, 14, 32)       0         \n",
      " 2D)                                                             \n",
      "                                                                 \n",
      " conv2d_18 (Conv2D)          (None, 14, 14, 64)        18496     \n",
      "                                                                 \n",
      " batch_normalization_22 (Bat  (None, 14, 14, 64)       256       \n",
      " chNormalization)                                                \n",
      "                                                                 \n",
      " conv2d_19 (Conv2D)          (None, 14, 14, 64)        36928     \n",
      "                                                                 \n",
      " batch_normalization_23 (Bat  (None, 14, 14, 64)       256       \n",
      " chNormalization)                                                \n",
      "                                                                 \n",
      " max_pooling2d_9 (MaxPooling  (None, 7, 7, 64)         0         \n",
      " 2D)                                                             \n",
      "                                                                 \n",
      " flatten_4 (Flatten)         (None, 3136)              0         \n",
      "                                                                 \n",
      " dense_8 (Dense)             (None, 512)               1606144   \n",
      "                                                                 \n",
      " batch_normalization_24 (Bat  (None, 512)              2048      \n",
      " chNormalization)                                                \n",
      "                                                                 \n",
      " dropout_4 (Dropout)         (None, 512)               0         \n",
      "                                                                 \n",
      " dense_9 (Dense)             (None, 10)                5130      \n",
      "                                                                 \n",
      "=================================================================\n",
      "Total params: 1,679,082\n",
      "Trainable params: 1,677,674\n",
      "Non-trainable params: 1,408\n",
      "_________________________________________________________________\n"
     ]
    }
   ],
   "source": [
    "# with CPU only: (tensorflow tries to use all cores available)\n",
    "with tf.device(\"/cpu:0\"):\n",
    "    model = Sequential()\n",
    "\n",
    "    model.add(Conv2D(num_filter, (3, 3), activation=ac, input_shape=(28, 28, 1),padding='same'))\n",
    "    model.add(BatchNormalization(axis=-1))\n",
    "    model.add(Conv2D(num_filter, (3, 3), activation=ac,padding='same'))\n",
    "    model.add(BatchNormalization(axis=-1))\n",
    "    model.add(MaxPooling2D(pool_size=(2, 2)))   # reduces to 14x14x32\n",
    "\n",
    "    model.add(Conv2D(2*num_filter, (3, 3), activation=ac,padding='same'))\n",
    "    model.add(BatchNormalization(axis=-1))\n",
    "    model.add(Conv2D(2*num_filter, (3, 3), activation=ac,padding='same'))\n",
    "    model.add(BatchNormalization(axis=-1))\n",
    "    model.add(MaxPooling2D(pool_size=(2, 2)))   # reduces to 7x7x64 = 3136 neurons\n",
    "\n",
    "    model.add(Flatten())                        \n",
    "    model.add(Dense(num_dense, activation=ac))\n",
    "    model.add(BatchNormalization())\n",
    "    model.add(Dropout(drop_dense))\n",
    "    model.add(Dense(10, activation='softmax'))\n",
    "\n",
    "    adm=Adam(lr=learningrate, beta_1=0.9, beta_2=0.999, epsilon=1e-08)\n",
    "    model.compile(loss='categorical_crossentropy', metrics=['accuracy'],optimizer=adm)\n",
    "    model.summary()"
   ]
  },
  {
   "cell_type": "code",
   "execution_count": 17,
   "metadata": {},
   "outputs": [
    {
     "name": "stdout",
     "output_type": "stream",
     "text": [
      "batch size 8\n",
      "7500/7500 [==============================] - 157s 21ms/step - loss: 0.1211 - accuracy: 0.9671 - val_loss: 0.0222 - val_accuracy: 0.9927\n",
      "batch size 16\n",
      "3750/3750 [==============================] - 121s 32ms/step - loss: 0.0462 - accuracy: 0.9865 - val_loss: 0.0284 - val_accuracy: 0.9920\n",
      "batch size 32\n",
      "1875/1875 [==============================] - 106s 57ms/step - loss: 0.0258 - accuracy: 0.9923 - val_loss: 0.0278 - val_accuracy: 0.9935\n",
      "batch size 64\n",
      "938/938 [==============================] - 94s 101ms/step - loss: 0.0147 - accuracy: 0.9955 - val_loss: 0.0207 - val_accuracy: 0.9946\n",
      "batch size 128\n",
      "469/469 [==============================] - 82s 175ms/step - loss: 0.0088 - accuracy: 0.9972 - val_loss: 0.0155 - val_accuracy: 0.9951\n",
      "batch size 256\n",
      "235/235 [==============================] - 77s 326ms/step - loss: 0.0071 - accuracy: 0.9977 - val_loss: 0.0162 - val_accuracy: 0.9953\n",
      "batch size 512\n",
      "118/118 [==============================] - 75s 633ms/step - loss: 0.0054 - accuracy: 0.9983 - val_loss: 0.0146 - val_accuracy: 0.9955\n"
     ]
    }
   ],
   "source": [
    "with tf.device(\"/cpu:0\"):\n",
    "    for i in range(7):\n",
    "        k=8*2**i\n",
    "        print(\"batch size \"+str(k))\n",
    "        model.fit(x_train, y_train, batch_size=k, epochs=1, validation_data=(x_test, y_test))"
   ]
  },
  {
   "cell_type": "markdown",
   "metadata": {},
   "source": [
    "## Comparision"
   ]
  },
  {
   "cell_type": "code",
   "execution_count": 20,
   "metadata": {},
   "outputs": [
    {
     "data": {
      "image/png": "[encoded data removed]",
      "text/plain": [
       "<Figure size 640x480 with 1 Axes>"
      ]
     },
     "metadata": {},
     "output_type": "display_data"
    }
   ],
   "source": [
    "# plot the comparison\n",
    "batch_sizes=[8,16,32,64,128,256,512]\n",
    "\n",
    "# extracted from the output of the above code\n",
    "gpu_list=[48, 29, 18, 8, 6, 4 , 4]\n",
    "cpu_list=[157, 121, 106, 94, 82, 77, 75]\n",
    "\n",
    "plt.plot(batch_sizes,gpu_list,'bo')\n",
    "plt.plot(batch_sizes,cpu_list,'ro')\n",
    "plt.plot(batch_sizes,gpu_list,'b--')\n",
    "plt.plot(batch_sizes,cpu_list,'r--')\n",
    "plt.ylabel('training time per epoch (s)')\n",
    "plt.xlabel('batch size')\n",
    "plt.legend(['gpu', 'cpu'], loc='upper right')\n",
    "plt.ylim([0,250])\n",
    "plt.savefig('../Documentation/CPUvsGPU.png') \n",
    "plt.show()"
   ]
  }
 ],
 "metadata": {
  "kernelspec": {
   "display_name": "Python 3.9.13 ('opencv-tracking-v4')",
   "language": "python",
   "name": "python3"
  },
  "language_info": {
   "codemirror_mode": {
    "name": "ipython",
    "version": 3
   },
   "file_extension": ".py",
   "mimetype": "text/x-python",
   "name": "python",
   "nbconvert_exporter": "python",
   "pygments_lexer": "ipython3",
   "version": "3.9.13"
  },
  "orig_nbformat": 4,
  "vscode": {
   "interpreter": {
    "hash": "6855a98cfab7939b13b212533748f76747928d06a090b83bc1c6f9d02b96c704"
   }
  }
 },
 "nbformat": 4,
 "nbformat_minor": 2
}
