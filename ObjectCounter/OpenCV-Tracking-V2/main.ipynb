{
 "cells": [
  {
   "cell_type": "markdown",
   "metadata": {},
   "source": [
    "# OpenCV Detection and Tracking\n",
    "Based on: https://pysource.com/2021/01/28/object-tracking-with-opencv-and-python/\n",
    "\n",
    "Object Detection - OpenCV\n",
    "- Will be applied to each and every frame\n",
    "\n",
    "Object Tracking - EuclidanDistTracker: \n",
    "- Will track the history of where each object was during time\n",
    "- Using EuclidianDistTracker to identify the same object within frames"
   ]
  },
  {
   "cell_type": "code",
   "execution_count": 1,
   "metadata": {},
   "outputs": [
    {
     "name": "stdout",
     "output_type": "stream",
     "text": [
      "Region of interest:  (556, 434, 258, 112)\n"
     ]
    }
   ],
   "source": [
    "import cv2\n",
    "import sys\n",
    "from tracker import *\n",
    "\n",
    "# Create tracker object\n",
    "tracker = EuclideanDistTracker()\n",
    "\n",
    "cap = cv2.VideoCapture(\"highway.mp4\")\n",
    "#cap = cv2.VideoCapture(0) # for using WebCam\n",
    "\n",
    "# Read first frame\n",
    "ok, frame = cap.read()\n",
    "if not ok:\n",
    "    print ('Cannot read video file')\n",
    "    sys.exit()\n",
    "\n",
    "# Extract Region of interest ROI\n",
    "roi_coordinates = cv2.selectROI(frame, False)\n",
    "cv2.destroyAllWindows()\n",
    "print(\"Region of interest: \", roi_coordinates)\n",
    "\n",
    "# Object detection from Stable camera, extract the moving objects from the stable camera¨\n",
    "# the longer the history the more stable the object detection is\n",
    "# the higher the value less detection, but also less false positives\n",
    "object_detector = cv2.createBackgroundSubtractorMOG2(history=100, varThreshold=40)\n",
    "\n",
    "while True:\n",
    "    ret, frame = cap.read()\n",
    "    height, width, _ = frame.shape    \n",
    "\n",
    "    # 1. Object Detection\n",
    "    roi = frame[int(roi_coordinates[1]):int(roi_coordinates[1] + roi_coordinates[3]), int(roi_coordinates[0]):int(roi_coordinates[0] + roi_coordinates[2])]\n",
    "    mask = object_detector.apply(roi)\n",
    "\n",
    "    # remove noise from the mask\n",
    "    _, mask = cv2.threshold(mask, 254, 255, cv2.THRESH_BINARY)\n",
    "\n",
    "    # extract coordinates of moving objects\n",
    "    contours, _ = cv2.findContours(mask, cv2.RETR_TREE, cv2.CHAIN_APPROX_SIMPLE)\n",
    "    \n",
    "    # collect all detections (bounding boxes)\n",
    "    detections = []\n",
    "    for cnt in contours:\n",
    "        # Calculate area and remove small elements\n",
    "        area = cv2.contourArea(cnt)\n",
    "        if area > 100:\n",
    "            x, y, w, h = cv2.boundingRect(cnt)\n",
    "            detections.append([x, y, w, h])\n",
    "\n",
    "    # 2. Object Tracking\n",
    "    boxes_ids = tracker.update(detections)\n",
    "    for box_id in boxes_ids:\n",
    "        x, y, w, h, id, direction = box_id\n",
    "        cv2.putText(roi, str(id) + \" \" + format(direction,\".2f\"), (x, y - 15), cv2.FONT_HERSHEY_PLAIN, 2, (255, 0, 0), 2)\n",
    "        cv2.rectangle(roi, (x, y), (x + w, y + h), (0, 255, 0), 3)\n",
    "\n",
    "    cv2.imshow(\"roi\", roi)\n",
    "    cv2.imshow(\"Frame\", frame)\n",
    "    cv2.imshow(\"Mask\", mask)\n",
    "\n",
    "    key = cv2.waitKey(0)\n",
    "    if key == 27:\n",
    "        break\n",
    "\n",
    "cap.release()\n",
    "cv2.destroyAllWindows()"
   ]
  }
 ],
 "metadata": {
  "kernelspec": {
   "display_name": "Python 3.9.6 64-bit",
   "language": "python",
   "name": "python3"
  },
  "language_info": {
   "codemirror_mode": {
    "name": "ipython",
    "version": 3
   },
   "file_extension": ".py",
   "mimetype": "text/x-python",
   "name": "python",
   "nbconvert_exporter": "python",
   "pygments_lexer": "ipython3",
   "version": "3.9.13"
  },
  "orig_nbformat": 4,
  "vscode": {
   "interpreter": {
    "hash": "81794d4967e6c3204c66dcd87b604927b115b27c00565d3d43f05ba2f3a2cb0d"
   }
  }
 },
 "nbformat": 4,
 "nbformat_minor": 2
}
