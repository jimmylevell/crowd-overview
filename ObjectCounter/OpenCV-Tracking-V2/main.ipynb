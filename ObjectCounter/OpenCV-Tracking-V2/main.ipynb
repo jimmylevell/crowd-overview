{
 "cells": [
  {
   "cell_type": "markdown",
   "metadata": {},
   "source": [
    "# OpenCV Detection and Tracking\n",
    "Based on: https://pysource.com/2021/01/28/object-tracking-with-opencv-and-python/\n",
    "\n",
    "Object Detection - OpenCV\n",
    "- Will be applied to each and every frame\n",
    "\n",
    "Object Tracking - EuclidanDistTracker: \n",
    "- Will track the history of where each object was during time\n",
    "- Using EuclidianDistTracker to identify the same object within frames"
   ]
  },
  {
   "cell_type": "code",
   "execution_count": 1,
   "metadata": {},
   "outputs": [
    {
     "name": "stdout",
     "output_type": "stream",
     "text": [
      "Region of interest:  (566, 409, 272, 142)\n"
     ]
    }
   ],
   "source": [
    "import settings\n",
    "\n",
    "from producer import run\n",
    "\n",
    "settings.init()\n",
    "run(use_video_file=True, video_file_path=\"highway.mp4\", roi_selection=True)"
   ]
  }
 ],
 "metadata": {
  "kernelspec": {
   "display_name": "Python 3.9.0 ('opencv-tracking-v2')",
   "language": "python",
   "name": "python3"
  },
  "language_info": {
   "codemirror_mode": {
    "name": "ipython",
    "version": 3
   },
   "file_extension": ".py",
   "mimetype": "text/x-python",
   "name": "python",
   "nbconvert_exporter": "python",
   "pygments_lexer": "ipython3",
   "version": "3.9.0"
  },
  "orig_nbformat": 4,
  "vscode": {
   "interpreter": {
    "hash": "29fb4bd82a4a71515332352c4755348eaeca5dcf8855492709886d7ca59d9a05"
   }
  }
 },
 "nbformat": 4,
 "nbformat_minor": 2
}
